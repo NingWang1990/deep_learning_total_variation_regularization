{
 "cells": [
  {
   "cell_type": "code",
   "execution_count": 3,
   "metadata": {},
   "outputs": [],
   "source": [
    "import numpy as np\n",
    "import matplotlib.pyplot as plt"
   ]
  },
  {
   "cell_type": "code",
   "execution_count": 4,
   "metadata": {},
   "outputs": [],
   "source": [
    "x = np.linspace(0.*np.pi, 6.*np.pi,10000)\n",
    "y = np.sin(x)\n",
    "mean_absolute_v = np.mean(np.abs(y))\n",
    "y_noisy = y + np.random.normal(loc=0.0, scale=0.1*mean_absolute_v,size=len(x))"
   ]
  },
  {
   "cell_type": "code",
   "execution_count": 11,
   "metadata": {},
   "outputs": [],
   "source": [
    "firstD_clean = np.gradient(y,x)\n",
    "secondD_clean = np.gradient(firstD_clean, x)"
   ]
  },
  {
   "cell_type": "code",
   "execution_count": 5,
   "metadata": {},
   "outputs": [
    {
     "data": {
      "text/plain": [
       "<matplotlib.legend.Legend at 0x2ba032fef160>"
      ]
     },
     "execution_count": 5,
     "metadata": {},
     "output_type": "execute_result"
    },
    {
     "data": {
      "image/png": "[encoded data removed]",
      "text/plain": [
       "<Figure size 432x288 with 1 Axes>"
      ]
     },
     "metadata": {
      "needs_background": "light"
     },
     "output_type": "display_data"
    }
   ],
   "source": [
    "plt.plot(x,y_noisy, label='noisy')\n",
    "plt.plot(x,y, label='clean')\n",
    "plt.legend()"
   ]
  },
  {
   "cell_type": "code",
   "execution_count": 6,
   "metadata": {},
   "outputs": [
    {
     "name": "stderr",
     "output_type": "stream",
     "text": [
      "/mpcdf/soft/SLE_15/packages/skylake/tensorflow/gpu/anaconda_3_2019.03-2019.03-cuda_10.0-10.0.130/1.14.0/lib/python3.7/site-packages/tensorflow/python/framework/dtypes.py:516: FutureWarning: Passing (type, 1) or '1type' as a synonym of type is deprecated; in a future version of numpy, it will be understood as (type, (1,)) / '(1,)type'.\n",
      "  _np_qint8 = np.dtype([(\"qint8\", np.int8, 1)])\n",
      "/mpcdf/soft/SLE_15/packages/skylake/tensorflow/gpu/anaconda_3_2019.03-2019.03-cuda_10.0-10.0.130/1.14.0/lib/python3.7/site-packages/tensorflow/python/framework/dtypes.py:517: FutureWarning: Passing (type, 1) or '1type' as a synonym of type is deprecated; in a future version of numpy, it will be understood as (type, (1,)) / '(1,)type'.\n",
      "  _np_quint8 = np.dtype([(\"quint8\", np.uint8, 1)])\n",
      "/mpcdf/soft/SLE_15/packages/skylake/tensorflow/gpu/anaconda_3_2019.03-2019.03-cuda_10.0-10.0.130/1.14.0/lib/python3.7/site-packages/tensorflow/python/framework/dtypes.py:518: FutureWarning: Passing (type, 1) or '1type' as a synonym of type is deprecated; in a future version of numpy, it will be understood as (type, (1,)) / '(1,)type'.\n",
      "  _np_qint16 = np.dtype([(\"qint16\", np.int16, 1)])\n",
      "/mpcdf/soft/SLE_15/packages/skylake/tensorflow/gpu/anaconda_3_2019.03-2019.03-cuda_10.0-10.0.130/1.14.0/lib/python3.7/site-packages/tensorflow/python/framework/dtypes.py:519: FutureWarning: Passing (type, 1) or '1type' as a synonym of type is deprecated; in a future version of numpy, it will be understood as (type, (1,)) / '(1,)type'.\n",
      "  _np_quint16 = np.dtype([(\"quint16\", np.uint16, 1)])\n",
      "/mpcdf/soft/SLE_15/packages/skylake/tensorflow/gpu/anaconda_3_2019.03-2019.03-cuda_10.0-10.0.130/1.14.0/lib/python3.7/site-packages/tensorflow/python/framework/dtypes.py:520: FutureWarning: Passing (type, 1) or '1type' as a synonym of type is deprecated; in a future version of numpy, it will be understood as (type, (1,)) / '(1,)type'.\n",
      "  _np_qint32 = np.dtype([(\"qint32\", np.int32, 1)])\n",
      "/mpcdf/soft/SLE_15/packages/skylake/tensorflow/gpu/anaconda_3_2019.03-2019.03-cuda_10.0-10.0.130/1.14.0/lib/python3.7/site-packages/tensorflow/python/framework/dtypes.py:525: FutureWarning: Passing (type, 1) or '1type' as a synonym of type is deprecated; in a future version of numpy, it will be understood as (type, (1,)) / '(1,)type'.\n",
      "  np_resource = np.dtype([(\"resource\", np.ubyte, 1)])\n"
     ]
    },
    {
     "name": "stdout",
     "output_type": "stream",
     "text": [
      "In init py ['/talos/u/wangnisn/devel/deep_learning_total_variation_regularization', '', '/mpcdf/soft/SLE_15/packages/x86_64/keras/anaconda_3_2019.03-2019.03/2.3.1/lib/python3.7/site-packages', '/mpcdf/soft/SLE_15/packages/skylake/tensorflow/gpu/anaconda_3_2019.03-2019.03-cuda_10.0-10.0.130/1.14.0/lib/python3.7/site-packages', '/mpcdf/soft/SLE_15/packages/skylake/pytorch/gpu/anaconda_3_2019.03-2019.03-cuda_10.0-10.0.130/1.2.0/lib/python3.7/site-packages', '/mpcdf/soft/SLE_15/packages/skylake/opencv/gpu/anaconda_3_2019.03-2019.03-cuda_10.0-10.0.130/4.1.0/lib/python3.7/site-packages', '/u/wangnisn/kaggle/defect_in_steel/version3/code/dummy_11a', '/mpcdf/soft/SLE_15/packages/x86_64/anaconda/3/2019.03/lib/python37.zip', '/mpcdf/soft/SLE_15/packages/x86_64/anaconda/3/2019.03/lib/python3.7', '/mpcdf/soft/SLE_15/packages/x86_64/anaconda/3/2019.03/lib/python3.7/lib-dynload', '/u/wangnisn/.local/lib/python3.7/site-packages', '/u/wangnisn/.local/lib/python3.7/site-packages/pystem-0.0.13-py3.7-linux-x86_64.egg', '/u/wangnisn/.local/lib/python3.7/site-packages/regularized_differentiation-0.0.7-py3.7.egg', '/mpcdf/soft/SLE_15/packages/x86_64/anaconda/3/2019.03/lib/python3.7/site-packages', '/mpcdf/soft/SLE_15/packages/x86_64/anaconda/3/2019.03/lib/python3.7/site-packages/IPython/extensions', '/talos/u/wangnisn/.ipython']\n"
     ]
    },
    {
     "name": "stderr",
     "output_type": "stream",
     "text": [
      "WARNING: Logging before flag parsing goes to stderr.\n",
      "W0804 13:57:28.769067 47966364495232 __init__.py:308] Limited tf.compat.v2.summary API due to missing TensorBoard installation.\n"
     ]
    }
   ],
   "source": [
    "from DLTVR import DLTVR1D_Keras "
   ]
  },
  {
   "cell_type": "code",
   "execution_count": 9,
   "metadata": {},
   "outputs": [],
   "source": [
    "hidden_layers = [2,5,8,11,14,17,17,17,17,17,11,8,5,2]"
   ]
  },
  {
   "cell_type": "code",
   "execution_count": null,
   "metadata": {},
   "outputs": [
    {
     "name": "stdout",
     "output_type": "stream",
     "text": [
      "Epoch 1/20000\n",
      "10000/10000 [==============================] - 4s 428us/sample - loss: 0.4546\n",
      "Epoch 2/20000\n",
      "10000/10000 [==============================] - 0s 48us/sample - loss: 0.2783\n",
      "Epoch 3/20000\n",
      "10000/10000 [==============================] - 0s 46us/sample - loss: 0.1825\n",
      "Epoch 4/20000\n",
      "10000/10000 [==============================] - 0s 47us/sample - loss: 0.1520\n",
      "Epoch 5/20000\n",
      "10000/10000 [==============================] - 0s 45us/sample - loss: 0.1387\n",
      "Epoch 6/20000\n",
      "10000/10000 [==============================] - 0s 46us/sample - loss: 0.1277\n",
      "Epoch 7/20000\n",
      "10000/10000 [==============================] - 0s 46us/sample - loss: 0.1170\n",
      "Epoch 8/20000\n",
      "10000/10000 [==============================] - 0s 45us/sample - loss: 0.1070\n",
      "Epoch 9/20000\n",
      "10000/10000 [==============================] - 0s 44us/sample - loss: 0.0983\n",
      "Epoch 10/20000\n",
      "10000/10000 [==============================] - 0s 35us/sample - loss: 0.0905\n",
      "Epoch 11/20000\n",
      "10000/10000 [==============================] - 0s 48us/sample - loss: 0.0833\n",
      "Epoch 12/20000\n",
      "10000/10000 [==============================] - 0s 47us/sample - loss: 0.0769\n",
      "Epoch 13/20000\n",
      "10000/10000 [==============================] - 0s 46us/sample - loss: 0.0712\n",
      "Epoch 14/20000\n",
      "10000/10000 [==============================] - 0s 45us/sample - loss: 0.0660\n",
      "Epoch 15/20000\n",
      "10000/10000 [==============================] - 0s 46us/sample - loss: 0.0612\n",
      "Epoch 16/20000\n",
      "10000/10000 [==============================] - 0s 45us/sample - loss: 0.0568\n",
      "Epoch 17/20000\n",
      "10000/10000 [==============================] - 0s 41us/sample - loss: 0.0529\n",
      "Epoch 18/20000\n",
      "10000/10000 [==============================] - 0s 45us/sample - loss: 0.0493\n",
      "Epoch 19/20000\n",
      "10000/10000 [==============================] - 0s 46us/sample - loss: 0.0460\n",
      "Epoch 20/20000\n",
      "10000/10000 [==============================] - 0s 47us/sample - loss: 0.0432\n",
      "Epoch 21/20000\n",
      "10000/10000 [==============================] - 0s 46us/sample - loss: 0.0404\n",
      "Epoch 22/20000\n",
      "10000/10000 [==============================] - 0s 46us/sample - loss: 0.0379\n",
      "Epoch 23/20000\n",
      "10000/10000 [==============================] - 0s 46us/sample - loss: 0.0355\n",
      "Epoch 24/20000\n",
      "10000/10000 [==============================] - 0s 45us/sample - loss: 0.0334\n",
      "Epoch 25/20000\n",
      "10000/10000 [==============================] - 0s 41us/sample - loss: 0.0314\n",
      "Epoch 26/20000\n",
      "10000/10000 [==============================] - 0s 43us/sample - loss: 0.0296\n",
      "Epoch 27/20000\n",
      "10000/10000 [==============================] - 0s 47us/sample - loss: 0.0279\n",
      "Epoch 28/20000\n",
      "10000/10000 [==============================] - 0s 42us/sample - loss: 0.0263\n",
      "Epoch 29/20000\n",
      "10000/10000 [==============================] - 0s 47us/sample - loss: 0.0247\n",
      "Epoch 30/20000\n",
      "10000/10000 [==============================] - 0s 48us/sample - loss: 0.0231\n",
      "Epoch 31/20000\n",
      "10000/10000 [==============================] - 0s 46us/sample - loss: 0.0216\n",
      "Epoch 32/20000\n",
      "10000/10000 [==============================] - 0s 44us/sample - loss: 0.0204\n",
      "Epoch 33/20000\n",
      "10000/10000 [==============================] - 0s 46us/sample - loss: 0.0186\n",
      "Epoch 34/20000\n",
      "10000/10000 [==============================] - 0s 38us/sample - loss: 0.0171\n",
      "Epoch 35/20000\n",
      "10000/10000 [==============================] - 0s 44us/sample - loss: 0.0157\n",
      "Epoch 36/20000\n",
      "10000/10000 [==============================] - 0s 46us/sample - loss: 0.0143\n",
      "Epoch 37/20000\n",
      "10000/10000 [==============================] - 0s 45us/sample - loss: 0.0132\n",
      "Epoch 38/20000\n",
      "10000/10000 [==============================] - 0s 42us/sample - loss: 0.0122\n",
      "Epoch 39/20000\n",
      "10000/10000 [==============================] - 0s 41us/sample - loss: 0.0115\n",
      "Epoch 40/20000\n",
      "10000/10000 [==============================] - 0s 45us/sample - loss: 0.0108\n",
      "Epoch 41/20000\n",
      "10000/10000 [==============================] - 0s 45us/sample - loss: 0.0102\n",
      "Epoch 42/20000\n",
      "10000/10000 [==============================] - 0s 45us/sample - loss: 0.0097\n",
      "Epoch 43/20000\n",
      "10000/10000 [==============================] - 0s 46us/sample - loss: 0.0093\n",
      "Epoch 44/20000\n",
      "10000/10000 [==============================] - 0s 43us/sample - loss: 0.0089\n",
      "Epoch 45/20000\n",
      "10000/10000 [==============================] - 0s 39us/sample - loss: 0.0085\n",
      "Epoch 46/20000\n",
      "10000/10000 [==============================] - 0s 44us/sample - loss: 0.0081\n",
      "Epoch 47/20000\n",
      "10000/10000 [==============================] - 0s 44us/sample - loss: 0.0079\n",
      "Epoch 48/20000\n",
      "10000/10000 [==============================] - 0s 44us/sample - loss: 0.0076\n",
      "Epoch 49/20000\n",
      "10000/10000 [==============================] - 0s 44us/sample - loss: 0.0073\n",
      "Epoch 50/20000\n",
      "10000/10000 [==============================] - 0s 42us/sample - loss: 0.0071\n",
      "Epoch 51/20000\n",
      "10000/10000 [==============================] - 0s 45us/sample - loss: 0.0069\n",
      "Epoch 52/20000\n",
      "10000/10000 [==============================] - 0s 40us/sample - loss: 0.0068\n",
      "Epoch 53/20000\n",
      "10000/10000 [==============================] - 0s 46us/sample - loss: 0.0066\n",
      "Epoch 54/20000\n",
      "10000/10000 [==============================] - 0s 44us/sample - loss: 0.0064\n",
      "Epoch 55/20000\n",
      "10000/10000 [==============================] - 0s 45us/sample - loss: 0.0063\n",
      "Epoch 56/20000\n",
      "10000/10000 [==============================] - 0s 49us/sample - loss: 0.0062\n",
      "Epoch 57/20000\n",
      "10000/10000 [==============================] - 0s 45us/sample - loss: 0.0060\n",
      "Epoch 58/20000\n",
      "10000/10000 [==============================] - 0s 47us/sample - loss: 0.0060\n",
      "Epoch 59/20000\n",
      "10000/10000 [==============================] - 0s 47us/sample - loss: 0.0059\n",
      "Epoch 60/20000\n",
      "10000/10000 [==============================] - 0s 44us/sample - loss: 0.0058\n",
      "Epoch 61/20000\n",
      "10000/10000 [==============================] - 0s 45us/sample - loss: 0.0057\n",
      "Epoch 62/20000\n",
      "10000/10000 [==============================] - 0s 46us/sample - loss: 0.0056\n",
      "Epoch 63/20000\n",
      "10000/10000 [==============================] - 0s 45us/sample - loss: 0.0055\n",
      "Epoch 64/20000\n",
      "10000/10000 [==============================] - 0s 44us/sample - loss: 0.0055\n",
      "Epoch 65/20000\n",
      " 3000/10000 [========>.....................] - ETA: 0s - loss: 0.0054"
     ]
    }
   ],
   "source": [
    "activation =  'sine'\n",
    "penalty_order = 3\n",
    "regularization_para = 0.0001\n",
    "penalty_loss = 'l1'\n",
    "model = DLTVR1D_Keras(hidden_layers, \n",
    "                    activation=activation,\n",
    "                regularization_para=regularization_para,\n",
    "                                      penalty_order=penalty_order,\n",
    "                                      penalty_loss=penalty_loss)\n",
    "model.fit(x, y_noisy,epochs=20000,batch_size=1000,patience=200)            "
   ]
  },
  {
   "cell_type": "code",
   "execution_count": null,
   "metadata": {},
   "outputs": [],
   "source": [
    "y_pred, y_x_pred, y_xx_pred = model.predict(x)\n",
    "fig, (ax1,ax2,ax3) = plt.subplots(1,3,figsize=(12,5))\n",
    "ax1.plot(x, y_pred)\n",
    "ax1.plot(x, y)\n",
    "ax2.plot(x, y_x_pred)\n",
    "ax2.plot(x, firstD_clean)\n",
    "ax3.plot(x, y_xx_pred)\n",
    "ax3.plot(x, secondD_clean)\n",
    "plt.show()"
   ]
  }
 ],
 "metadata": {
  "kernelspec": {
   "display_name": "Python 3",
   "language": "python",
   "name": "python3"
  },
  "language_info": {
   "codemirror_mode": {
    "name": "ipython",
    "version": 3
   },
   "file_extension": ".py",
   "mimetype": "text/x-python",
   "name": "python",
   "nbconvert_exporter": "python",
   "pygments_lexer": "ipython3",
   "version": "3.7.3"
  }
 },
 "nbformat": 4,
 "nbformat_minor": 2
}
